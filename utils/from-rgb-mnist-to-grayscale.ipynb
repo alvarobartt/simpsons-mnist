{
 "cells": [
  {
   "cell_type": "code",
   "execution_count": 1,
   "metadata": {},
   "outputs": [],
   "source": [
    "import cv2\n",
    "import os"
   ]
  },
  {
   "cell_type": "code",
   "execution_count": 2,
   "metadata": {},
   "outputs": [
    {
     "name": "stdout",
     "output_type": "stream",
     "text": [
      "krusty_the_clown\n",
      "completed!\n",
      "ned_flanders\n",
      "completed!\n",
      "homer_simpson\n",
      "completed!\n",
      "lisa_simpson\n",
      "completed!\n",
      "marge_simpson\n",
      "completed!\n",
      "charles_montgomery_burns\n",
      "completed!\n",
      "bart_simpson\n",
      "completed!\n",
      "moe_szyslak\n",
      "completed!\n",
      "principal_skinner\n",
      "completed!\n",
      "milhouse_van_houten\n",
      "completed!\n"
     ]
    }
   ],
   "source": [
    "for c in os.listdir('../dataset/rgb/train'):\n",
    "    print(c)\n",
    "    os.makedirs(f'../dataset/grayscale/train/{c}', exist_ok=True)\n",
    "    for f in os.listdir(f'../dataset/rgb/train/{c}'):\n",
    "        img = cv2.imread(f'../dataset/rgb/train/{c}/{f}', cv2.IMREAD_GRAYSCALE)\n",
    "        cv2.imwrite(f'../dataset/grayscale/train/{c}/{f}', img)\n",
    "    print('completed!')"
   ]
  },
  {
   "cell_type": "code",
   "execution_count": 3,
   "metadata": {},
   "outputs": [
    {
     "name": "stdout",
     "output_type": "stream",
     "text": [
      "krusty_the_clown\n",
      "completed!\n",
      "ned_flanders\n",
      "completed!\n",
      "homer_simpson\n",
      "completed!\n",
      "lisa_simpson\n",
      "completed!\n",
      "marge_simpson\n",
      "completed!\n",
      "charles_montgomery_burns\n",
      "completed!\n",
      "bart_simpson\n",
      "completed!\n",
      "moe_szyslak\n",
      "completed!\n",
      "principal_skinner\n",
      "completed!\n",
      "milhouse_van_houten\n",
      "completed!\n"
     ]
    }
   ],
   "source": [
    "for c in os.listdir('../dataset/rgb/test'):\n",
    "    print(c)\n",
    "    os.makedirs(f'../dataset/grayscale/test/{c}', exist_ok=True)\n",
    "    for f in os.listdir(f'../dataset/rgb/test/{c}'):\n",
    "        img = cv2.imread(f'../dataset/rgb/test/{c}/{f}', cv2.IMREAD_GRAYSCALE)\n",
    "        cv2.imwrite(f'../dataset/grayscale/test/{c}/{f}', img)\n",
    "    print('completed!')"
   ]
  }
 ],
 "metadata": {
  "kernelspec": {
   "display_name": "Python 3",
   "language": "python",
   "name": "python3"
  },
  "language_info": {
   "codemirror_mode": {
    "name": "ipython",
    "version": 3
   },
   "file_extension": ".py",
   "mimetype": "text/x-python",
   "name": "python",
   "nbconvert_exporter": "python",
   "pygments_lexer": "ipython3",
   "version": "3.8.5"
  }
 },
 "nbformat": 4,
 "nbformat_minor": 4
}
