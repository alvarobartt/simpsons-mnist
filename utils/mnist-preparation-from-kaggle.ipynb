{
 "cells": [
  {
   "cell_type": "code",
   "execution_count": 1,
   "metadata": {},
   "outputs": [],
   "source": [
    "import re\n",
    "\n",
    "CLASS_NAME = re.compile(r'_[0-9]*\\.(jpg|jpeg|png)')"
   ]
  },
  {
   "cell_type": "code",
   "execution_count": 2,
   "metadata": {},
   "outputs": [],
   "source": [
    "import os"
   ]
  },
  {
   "cell_type": "code",
   "execution_count": 3,
   "metadata": {},
   "outputs": [],
   "source": [
    "training_classes = list()\n",
    "for train_dir in os.listdir('../dataset/train/'):\n",
    "    training_classes.append(train_dir)"
   ]
  },
  {
   "cell_type": "code",
   "execution_count": 4,
   "metadata": {},
   "outputs": [],
   "source": [
    "for test_image in os.listdir('../dataset/test/'):\n",
    "    test_class = CLASS_NAME.sub(\"\", test_image)\n",
    "    if test_class in training_classes:\n",
    "        filename = f\"pic_{str(len(os.listdir(f'../dataset/train/{test_class}'))).zfill(4)}.jpg\"\n",
    "        os.rename(f\"../dataset/test/{test_image}\", f\"../dataset/train/{test_class}/{filename}\")"
   ]
  },
  {
   "cell_type": "code",
   "execution_count": 5,
   "metadata": {},
   "outputs": [],
   "source": [
    "import shutil"
   ]
  },
  {
   "cell_type": "code",
   "execution_count": 6,
   "metadata": {},
   "outputs": [
    {
     "name": "stdout",
     "output_type": "stream",
     "text": [
      "krusty_the_clown 1206\n",
      "ned_flanders 1503\n",
      "homer_simpson 2296\n",
      "lisa_simpson 1354\n",
      "marge_simpson 1341\n",
      "charles_montgomery_burns 1193\n",
      "bart_simpson 1392\n",
      "moe_szyslak 1502\n",
      "principal_skinner 1244\n",
      "milhouse_van_houten 1079\n"
     ]
    }
   ],
   "source": [
    "for training_class in os.listdir('../dataset/train/'):\n",
    "    num_samples = len(os.listdir(f'../dataset/train/{training_class}'))\n",
    "    if num_samples > 1050:\n",
    "        print(training_class, num_samples)\n",
    "    else:\n",
    "        shutil.rmtree(f'../dataset/train/{training_class}')"
   ]
  },
  {
   "cell_type": "code",
   "execution_count": 7,
   "metadata": {},
   "outputs": [],
   "source": [
    "import cv2"
   ]
  },
  {
   "cell_type": "code",
   "execution_count": 8,
   "metadata": {},
   "outputs": [
    {
     "data": {
      "text/plain": [
       "(28, 28, 3)"
      ]
     },
     "execution_count": 8,
     "metadata": {},
     "output_type": "execute_result"
    }
   ],
   "source": [
    "img = cv2.imread('../dataset/train/ned_flanders/pic_0001.jpg')\n",
    "img = cv2.cvtColor(img, cv2.COLOR_BGR2RGB)\n",
    "img = cv2.resize(img, (28, 28))\n",
    "img.shape"
   ]
  },
  {
   "cell_type": "code",
   "execution_count": 9,
   "metadata": {},
   "outputs": [
    {
     "data": {
      "text/plain": [
       "<matplotlib.image.AxesImage at 0x7f40a15fb8e0>"
      ]
     },
     "execution_count": 9,
     "metadata": {},
     "output_type": "execute_result"
    },
    {
     "data": {
      "image/png": "[encoded data removed]",
      "text/plain": [
       "<Figure size 432x288 with 1 Axes>"
      ]
     },
     "metadata": {
      "needs_background": "light"
     },
     "output_type": "display_data"
    }
   ],
   "source": [
    "import matplotlib.pyplot as plt\n",
    "plt.imshow(img)"
   ]
  },
  {
   "cell_type": "code",
   "execution_count": 10,
   "metadata": {},
   "outputs": [],
   "source": [
    "import random"
   ]
  },
  {
   "cell_type": "code",
   "execution_count": 11,
   "metadata": {},
   "outputs": [
    {
     "name": "stdout",
     "output_type": "stream",
     "text": [
      "krusty_the_clown\n",
      "krusty_the_clown completed!\n",
      "ned_flanders\n",
      "ned_flanders completed!\n",
      "homer_simpson\n",
      "homer_simpson completed!\n",
      "lisa_simpson\n",
      "lisa_simpson completed!\n",
      "marge_simpson\n",
      "marge_simpson completed!\n",
      "charles_montgomery_burns\n",
      "charles_montgomery_burns completed!\n",
      "bart_simpson\n",
      "bart_simpson completed!\n",
      "moe_szyslak\n",
      "moe_szyslak completed!\n",
      "principal_skinner\n",
      "principal_skinner completed!\n",
      "milhouse_van_houten\n",
      "milhouse_van_houten completed!\n"
     ]
    }
   ],
   "source": [
    "for training_class in os.listdir('../dataset/train/'):\n",
    "    print(training_class)\n",
    "    training_images = os.listdir(f'../dataset/train/{training_class}')\n",
    "    random.shuffle(training_images)\n",
    "    training_images = training_images[:1000]\n",
    "    for image in training_images:\n",
    "        filename = f'../dataset/train/{training_class}/{image}'\n",
    "        image = cv2.imread(filename)\n",
    "        image = cv2.resize(image, (28, 28))\n",
    "        cv2.imwrite(filename, image)\n",
    "    cut = int(len(training_images)*.8)\n",
    "    train_mnist = training_images[:cut]\n",
    "    os.makedirs(f\"../dataset/train_mnist/{training_class}\")\n",
    "    for image in train_mnist:\n",
    "        os.rename(f\"../dataset/train/{training_class}/{image}\", f\"../dataset/train_mnist/{training_class}/{image}\")\n",
    "    test_mnist = training_images[cut:]\n",
    "    os.makedirs(f\"../dataset/test_mnist/{training_class}\")\n",
    "    for image in test_mnist:\n",
    "        os.rename(f\"../dataset/train/{training_class}/{image}\", f\"../dataset/test_mnist/{training_class}/{image}\")\n",
    "    print(f\"{training_class} completed!\")"
   ]
  },
  {
   "cell_type": "code",
   "execution_count": 15,
   "metadata": {},
   "outputs": [
    {
     "name": "stdout",
     "output_type": "stream",
     "text": [
      "krusty_the_clown 800\n",
      "ned_flanders 800\n",
      "homer_simpson 800\n",
      "lisa_simpson 800\n",
      "marge_simpson 800\n",
      "charles_montgomery_burns 800\n",
      "bart_simpson 800\n",
      "moe_szyslak 800\n",
      "principal_skinner 800\n",
      "milhouse_van_houten 800\n"
     ]
    }
   ],
   "source": [
    "for train_mnist in os.listdir('../dataset/train_mnist/'):\n",
    "    print(train_mnist, len(os.listdir(f'../dataset/train_mnist/{train_mnist}')))"
   ]
  },
  {
   "cell_type": "code",
   "execution_count": 16,
   "metadata": {},
   "outputs": [
    {
     "name": "stdout",
     "output_type": "stream",
     "text": [
      "krusty_the_clown 200\n",
      "ned_flanders 200\n",
      "homer_simpson 200\n",
      "lisa_simpson 200\n",
      "marge_simpson 200\n",
      "charles_montgomery_burns 200\n",
      "bart_simpson 200\n",
      "moe_szyslak 200\n",
      "principal_skinner 200\n",
      "milhouse_van_houten 200\n"
     ]
    }
   ],
   "source": [
    "for test_mnist in os.listdir('../dataset/test_mnist/'):\n",
    "    print(test_mnist, len(os.listdir(f'../dataset/test_mnist/{test_mnist}')))"
   ]
  }
 ],
 "metadata": {
  "kernelspec": {
   "display_name": "Python 3",
   "language": "python",
   "name": "python3"
  },
  "language_info": {
   "codemirror_mode": {
    "name": "ipython",
    "version": 3
   },
   "file_extension": ".py",
   "mimetype": "text/x-python",
   "name": "python",
   "nbconvert_exporter": "python",
   "pygments_lexer": "ipython3",
   "version": "3.8.5"
  }
 },
 "nbformat": 4,
 "nbformat_minor": 4
}
