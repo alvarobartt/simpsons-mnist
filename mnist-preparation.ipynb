{
 "cells": [
  {
   "cell_type": "code",
   "execution_count": 1,
   "metadata": {},
   "outputs": [],
   "source": [
    "import cv2"
   ]
  },
  {
   "cell_type": "code",
   "execution_count": 2,
   "metadata": {},
   "outputs": [],
   "source": [
    "import re\n",
    "\n",
    "CLASS_NAME = re.compile(r'_[0-9]*\\.(jpg|jpeg|png)')"
   ]
  },
  {
   "cell_type": "code",
   "execution_count": 3,
   "metadata": {},
   "outputs": [],
   "source": [
    "import os"
   ]
  },
  {
   "cell_type": "code",
   "execution_count": 4,
   "metadata": {},
   "outputs": [],
   "source": [
    "training_classes = list()\n",
    "for train_dir in os.listdir('dataset/train/'):\n",
    "    training_classes.append(train_dir)    "
   ]
  },
  {
   "cell_type": "code",
   "execution_count": 5,
   "metadata": {},
   "outputs": [],
   "source": [
    "for test_image in os.listdir('dataset/test/'):\n",
    "    test_class = CLASS_NAME.sub(\"\", test_image)\n",
    "    if test_class in training_classes:\n",
    "        filename = f\"pic_{str(len(os.listdir(f'dataset/train/{test_class}'))).zfill(4)}.jpg\"\n",
    "        os.rename(f\"dataset/test/{test_image}\", f\"dataset/train/{test_class}/{filename}\")"
   ]
  },
  {
   "cell_type": "code",
   "execution_count": 16,
   "metadata": {},
   "outputs": [],
   "source": [
    "import shutil"
   ]
  },
  {
   "cell_type": "code",
   "execution_count": 17,
   "metadata": {},
   "outputs": [
    {
     "name": "stdout",
     "output_type": "stream",
     "text": [
      "krusty_the_clown 1206\n",
      "ned_flanders 1503\n",
      "homer_simpson 2296\n",
      "lisa_simpson 1354\n",
      "marge_simpson 1341\n",
      "charles_montgomery_burns 1193\n",
      "bart_simpson 1392\n",
      "moe_szyslak 1502\n",
      "principal_skinner 1244\n",
      "milhouse_van_houten 1079\n"
     ]
    }
   ],
   "source": [
    "for training_class in os.listdir('dataset/train/'):\n",
    "    num_samples = len(os.listdir(f'dataset/train/{training_class}'))\n",
    "    if num_samples > 1050:\n",
    "        print(training_class, num_samples)\n",
    "    else:\n",
    "        shutil.rmtree(f'dataset/train/{training_class}')"
   ]
  }
 ],
 "metadata": {
  "kernelspec": {
   "display_name": "Python 3",
   "language": "python",
   "name": "python3"
  },
  "language_info": {
   "codemirror_mode": {
    "name": "ipython",
    "version": 3
   },
   "file_extension": ".py",
   "mimetype": "text/x-python",
   "name": "python",
   "nbconvert_exporter": "python",
   "pygments_lexer": "ipython3",
   "version": "3.8.5"
  }
 },
 "nbformat": 4,
 "nbformat_minor": 4
}
